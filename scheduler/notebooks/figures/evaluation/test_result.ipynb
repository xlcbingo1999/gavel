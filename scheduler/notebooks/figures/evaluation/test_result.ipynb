{
 "cells": [
  {
   "cell_type": "code",
   "execution_count": null,
   "metadata": {},
   "outputs": [],
   "source": [
    "import \n",
    "\n"
   ]
  },
  {
   "cell_type": "markdown",
   "metadata": {},
   "source": [
    "[2022-10-24 22:20:26.377805] Running 28 total experiment(s)...\n",
    "[2022-10-24 22:20:26.395391] [Experiment ID:  0] Configuration: cluster_spec=v100:36|p100:36|k80:36, policy=FIFO_Perf, seed=0, lam=14400.000000, profiling_percentage=1.000000, num_reference_models=26, mem_per_server_str=, \n",
    "[2022-10-24 22:20:26.395776] [Experiment ID:  4] Configuration: cluster_spec=v100:36|p100:36|k80:36, policy=Isolated, seed=0, lam=14400.000000, profiling_percentage=1.000000, num_reference_models=26, mem_per_server_str=, \n",
    "[2022-10-24 22:20:26.396235] [Experiment ID: 12] Configuration: cluster_spec=v100:36|p100:36|k80:36, policy=ThroughputSumWithPerf, seed=0, lam=14400.000000, profiling_percentage=1.000000, num_reference_models=26, mem_per_server_str=, \n",
    "[2022-10-24 22:20:26.396297] [Experiment ID:  8] Configuration: cluster_spec=v100:36|p100:36|k80:36, policy=MaxMinFairness_Perf, seed=0, lam=14400.000000, profiling_percentage=1.000000, num_reference_models=26, mem_per_server_str=, \n",
    "[2022-10-24 23:08:55.110720] [Experiment ID:  0] Results: average JCT=59207.906064, utilization=0.050594, total_cost=2590.100567, num_SLO_violations=0, lease_extension_frequency=99.77%\n",
    "[2022-10-24 23:08:55.112152] [Experiment ID: 16] Configuration: cluster_spec=v100:36|p100:36|k80:36, policy=ThroughputNormalizedByCostSum_Perf, seed=0, lam=14400.000000, profiling_percentage=1.000000, num_reference_models=26, mem_per_server_str=, \n",
    "[2022-10-24 23:09:38.569912] [Experiment ID: 12] Results: average JCT=59207.906064, utilization=0.050594, total_cost=2590.100567, num_SLO_violations=0, lease_extension_frequency=99.77%\n",
    "[2022-10-24 23:09:38.570798] [Experiment ID: 20] Configuration: cluster_spec=v100:36|p100:36|k80:36, policy=MinTotalDuration_Perf, seed=0, lam=14400.000000, profiling_percentage=1.000000, num_reference_models=26, mem_per_server_str=, \n",
    "[2022-10-24 23:09:45.781657] [Experiment ID:  8] Results: average JCT=59207.906064, utilization=0.050594, total_cost=2590.100567, num_SLO_violations=0, lease_extension_frequency=99.77%\n",
    "[2022-10-24 23:09:45.782862] [Experiment ID: 24] Configuration: cluster_spec=v100:36|p100:36|k80:36, policy=MaxMinFairnessWaterFilling_Perf, seed=0, lam=14400.000000, profiling_percentage=1.000000, num_reference_models=26, mem_per_server_str=, \n",
    "[2022-10-24 23:13:35.754710] [Experiment ID:  4] Results: average JCT=85365.150811, utilization=0.068927, total_cost=2324.594028, num_SLO_violations=0, lease_extension_frequency=34.05%\n",
    "[2022-10-24 23:13:35.756743] [Experiment ID:  1] Configuration: cluster_spec=v100:36|p100:36|k80:36, policy=FIFO_Perf, seed=0, lam=7200.000000, profiling_percentage=1.000000, num_reference_models=26, mem_per_server_str=, \n",
    "[2022-10-24 23:46:34.673945] [Experiment ID:  1] Results: average JCT=59327.769663, utilization=0.098323, total_cost=3169.063026, num_SLO_violations=0, lease_extension_frequency=99.59%\n",
    "[2022-10-24 23:46:34.674720] [Experiment ID:  5] Configuration: cluster_spec=v100:36|p100:36|k80:36, policy=Isolated, seed=0, lam=7200.000000, profiling_percentage=1.000000, num_reference_models=26, mem_per_server_str=, \n",
    "[2022-10-25 00:00:22.747688] [Experiment ID: 16] Results: average JCT=59207.906064, utilization=0.050594, total_cost=2590.100567, num_SLO_violations=0, lease_extension_frequency=99.77%\n",
    "[2022-10-25 00:00:22.748668] [Experiment ID:  9] Configuration: cluster_spec=v100:36|p100:36|k80:36, policy=MaxMinFairness_Perf, seed=0, lam=7200.000000, profiling_percentage=1.000000, num_reference_models=26, mem_per_server_str=, \n",
    "[2022-10-25 00:01:51.130829] [Experiment ID: 20] Results: average JCT=59207.906064, utilization=0.050594, total_cost=2590.100567, num_SLO_violations=0, lease_extension_frequency=99.77%\n",
    "[2022-10-25 00:01:51.131638] [Experiment ID: 13] Configuration: cluster_spec=v100:36|p100:36|k80:36, policy=ThroughputSumWithPerf, seed=0, lam=7200.000000, profiling_percentage=1.000000, num_reference_models=26, mem_per_server_str=, \n",
    "[2022-10-25 00:01:54.140001] [Experiment ID: 24] Results: average JCT=59207.906064, utilization=0.050594, total_cost=2590.100567, num_SLO_violations=0, lease_extension_frequency=99.77%\n",
    "[2022-10-25 00:01:54.141068] [Experiment ID: 17] Configuration: cluster_spec=v100:36|p100:36|k80:36, policy=ThroughputNormalizedByCostSum_Perf, seed=0, lam=7200.000000, profiling_percentage=1.000000, num_reference_models=26, mem_per_server_str=, \n",
    "[2022-10-25 00:23:27.944961] [Experiment ID:  5] Results: average JCT=85406.554822, utilization=0.133603, total_cost=2864.059743, num_SLO_violations=0, lease_extension_frequency=33.79%\n",
    "[2022-10-25 00:23:27.945592] [Experiment ID: 21] Configuration: cluster_spec=v100:36|p100:36|k80:36, policy=MinTotalDuration_Perf, seed=0, lam=7200.000000, profiling_percentage=1.000000, num_reference_models=26, mem_per_server_str=, \n",
    "[2022-10-25 00:33:45.308452] [Experiment ID:  9] Results: average JCT=59327.769663, utilization=0.098323, total_cost=3169.063026, num_SLO_violations=0, lease_extension_frequency=99.60%\n",
    "[2022-10-25 00:33:45.310922] [Experiment ID: 25] Configuration: cluster_spec=v100:36|p100:36|k80:36, policy=MaxMinFairnessWaterFilling_Perf, seed=0, lam=7200.000000, profiling_percentage=1.000000, num_reference_models=26, mem_per_server_str=, \n",
    "[2022-10-25 00:34:53.208512] [Experiment ID: 13] Results: average JCT=59327.769663, utilization=0.098323, total_cost=3169.063026, num_SLO_violations=0, lease_extension_frequency=99.60%\n",
    "[2022-10-25 00:34:53.209239] [Experiment ID:  2] Configuration: cluster_spec=v100:36|p100:36|k80:36, policy=FIFO_Perf, seed=0, lam=4800.000000, profiling_percentage=1.000000, num_reference_models=26, mem_per_server_str=, \n",
    "[2022-10-25 00:35:16.251477] [Experiment ID: 17] Results: average JCT=59327.769663, utilization=0.098323, total_cost=3169.063026, num_SLO_violations=0, lease_extension_frequency=99.60%\n",
    "[2022-10-25 00:35:16.252188] [Experiment ID:  6] Configuration: cluster_spec=v100:36|p100:36|k80:36, policy=Isolated, seed=0, lam=4800.000000, profiling_percentage=1.000000, num_reference_models=26, mem_per_server_str=, \n",
    "[2022-10-25 00:56:12.584864] [Experiment ID: 21] Results: average JCT=59327.769663, utilization=0.098323, total_cost=3169.063026, num_SLO_violations=0, lease_extension_frequency=99.60%\n",
    "[2022-10-25 00:56:12.585598] [Experiment ID: 10] Configuration: cluster_spec=v100:36|p100:36|k80:36, policy=MaxMinFairness_Perf, seed=0, lam=4800.000000, profiling_percentage=1.000000, num_reference_models=26, mem_per_server_str=, \n",
    "[2022-10-25 01:00:22.534262] [Experiment ID:  2] Results: average JCT=59516.799406, utilization=0.141131, total_cost=3658.853628, num_SLO_violations=0, lease_extension_frequency=99.45%\n",
    "[2022-10-25 01:00:22.535209] [Experiment ID: 14] Configuration: cluster_spec=v100:36|p100:36|k80:36, policy=ThroughputSumWithPerf, seed=0, lam=4800.000000, profiling_percentage=1.000000, num_reference_models=26, mem_per_server_str=, \n",
    "[2022-10-25 01:03:40.600879] [Experiment ID:  6] Results: average JCT=85350.885670, utilization=0.187858, total_cost=3288.707499, num_SLO_violations=0, lease_extension_frequency=33.12%\n",
    "[2022-10-25 01:03:40.601794] [Experiment ID: 18] Configuration: cluster_spec=v100:36|p100:36|k80:36, policy=ThroughputNormalizedByCostSum_Perf, seed=0, lam=4800.000000, profiling_percentage=1.000000, num_reference_models=26, mem_per_server_str=, \n",
    "[2022-10-25 01:05:56.161920] [Experiment ID: 25] Results: average JCT=59327.769663, utilization=0.098323, total_cost=3169.063026, num_SLO_violations=0, lease_extension_frequency=99.60%\n",
    "[2022-10-25 01:05:56.162504] [Experiment ID: 22] Configuration: cluster_spec=v100:36|p100:36|k80:36, policy=MinTotalDuration_Perf, seed=0, lam=4800.000000, profiling_percentage=1.000000, num_reference_models=26, mem_per_server_str=, \n",
    "[2022-10-25 01:22:16.565851] [Experiment ID: 10] Results: average JCT=59516.799406, utilization=0.141129, total_cost=3658.809924, num_SLO_violations=0, lease_extension_frequency=99.46%\n",
    "[2022-10-25 01:22:16.566631] [Experiment ID: 26] Configuration: cluster_spec=v100:36|p100:36|k80:36, policy=MaxMinFairnessWaterFilling_Perf, seed=0, lam=4800.000000, profiling_percentage=1.000000, num_reference_models=26, mem_per_server_str=, \n",
    "[2022-10-25 01:26:35.826998] [Experiment ID: 14] Results: average JCT=59516.799414, utilization=0.141128, total_cost=3658.795400, num_SLO_violations=0, lease_extension_frequency=99.45%\n",
    "[2022-10-25 01:26:35.827817] [Experiment ID:  3] Configuration: cluster_spec=v100:36|p100:36|k80:36, policy=FIFO_Perf, seed=0, lam=3600.000000, profiling_percentage=1.000000, num_reference_models=26, mem_per_server_str=, \n",
    "[2022-10-25 01:29:46.927968] [Experiment ID: 18] Results: average JCT=59516.799422, utilization=0.141129, total_cost=3658.817434, num_SLO_violations=0, lease_extension_frequency=99.46%\n",
    "[2022-10-25 01:29:46.928739] [Experiment ID:  7] Configuration: cluster_spec=v100:36|p100:36|k80:36, policy=Isolated, seed=0, lam=3600.000000, profiling_percentage=1.000000, num_reference_models=26, mem_per_server_str=, \n",
    "[2022-10-25 01:32:46.711275] [Experiment ID: 22] Results: average JCT=59516.799406, utilization=0.141134, total_cost=3658.870024, num_SLO_violations=0, lease_extension_frequency=99.48%\n",
    "[2022-10-25 01:32:46.712382] [Experiment ID: 11] Configuration: cluster_spec=v100:36|p100:36|k80:36, policy=MaxMinFairness_Perf, seed=0, lam=3600.000000, profiling_percentage=1.000000, num_reference_models=26, mem_per_server_str=, \n",
    "[2022-10-25 01:48:47.655474] [Experiment ID: 26] Results: average JCT=59516.799406, utilization=0.141129, total_cost=3658.809924, num_SLO_violations=0, lease_extension_frequency=99.46%\n",
    "[2022-10-25 01:48:47.656444] [Experiment ID: 15] Configuration: cluster_spec=v100:36|p100:36|k80:36, policy=ThroughputSumWithPerf, seed=0, lam=3600.000000, profiling_percentage=1.000000, num_reference_models=26, mem_per_server_str=, \n",
    "[2022-10-25 01:49:50.749870] [Experiment ID:  3] Results: average JCT=59525.856130, utilization=0.185097, total_cost=4204.095997, num_SLO_violations=0, lease_extension_frequency=99.27%\n",
    "[2022-10-25 01:49:50.750628] [Experiment ID: 19] Configuration: cluster_spec=v100:36|p100:36|k80:36, policy=ThroughputNormalizedByCostSum_Perf, seed=0, lam=3600.000000, profiling_percentage=1.000000, num_reference_models=26, mem_per_server_str=, \n",
    "[2022-10-25 01:55:39.868618] [Experiment ID:  7] Results: average JCT=85625.331259, utilization=0.264332, total_cost=4049.758897, num_SLO_violations=0, lease_extension_frequency=31.22%\n",
    "[2022-10-25 01:55:39.869432] [Experiment ID: 23] Configuration: cluster_spec=v100:36|p100:36|k80:36, policy=MinTotalDuration_Perf, seed=0, lam=3600.000000, profiling_percentage=1.000000, num_reference_models=26, mem_per_server_str=, \n",
    "[2022-10-25 01:56:07.723948] [Experiment ID: 11] Results: average JCT=59525.856203, utilization=0.185088, total_cost=4206.235075, num_SLO_violations=0, lease_extension_frequency=99.00%\n",
    "[2022-10-25 01:56:07.724771] [Experiment ID: 27] Configuration: cluster_spec=v100:36|p100:36|k80:36, policy=MaxMinFairnessWaterFilling_Perf, seed=0, lam=3600.000000, profiling_percentage=1.000000, num_reference_models=26, mem_per_server_str=, \n",
    "[2022-10-25 02:12:16.708982] [Experiment ID: 15] Results: average JCT=59525.856177, utilization=0.185060, total_cost=4204.864359, num_SLO_violations=0, lease_extension_frequency=98.99%\n",
    "[2022-10-25 02:13:00.782935] [Experiment ID: 19] Results: average JCT=59525.856820, utilization=0.185092, total_cost=4204.479814, num_SLO_violations=0, lease_extension_frequency=99.14%\n",
    "[2022-10-25 02:19:03.591010] [Experiment ID: 23] Results: average JCT=59531.996423, utilization=0.185646, total_cost=4213.464402, num_SLO_violations=0, lease_extension_frequency=98.83%\n",
    "[2022-10-25 02:19:15.256607] [Experiment ID: 27] Results: average JCT=59525.856179, utilization=0.185096, total_cost=4206.379679, num_SLO_violations=0, lease_extension_frequency=98.99%"
   ]
  }
 ],
 "metadata": {
  "kernelspec": {
   "display_name": "Python 3.6.13 ('gavel')",
   "language": "python",
   "name": "python3"
  },
  "language_info": {
   "name": "python",
   "version": "3.6.13"
  },
  "orig_nbformat": 4,
  "vscode": {
   "interpreter": {
    "hash": "f6646cd005938da864c95e8abd7f25bff82aea8c2ba2acde710c9f3fb4f29a01"
   }
  }
 },
 "nbformat": 4,
 "nbformat_minor": 2
}
